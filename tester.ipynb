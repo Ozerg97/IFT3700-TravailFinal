{
 "cells": [
  {
   "cell_type": "code",
   "execution_count": 2,
   "metadata": {},
   "outputs": [],
   "source": [
    "import re"
   ]
  },
  {
   "cell_type": "code",
   "execution_count": 40,
   "metadata": {},
   "outputs": [
    {
     "name": "stdout",
     "output_type": "stream",
     "text": [
      "Pays non reconnu\n"
     ]
    }
   ],
   "source": [
    "from fuzzywuzzy import fuzz\n",
    "\n",
    "# Nom standard du pays\n",
    "nom_standard = \"United States\"\n",
    "\n",
    "# Nom à vérifier\n",
    "nom_pays = \"United States Virgin Islands\"\n",
    "\n",
    "# Comparaison de la similarité\n",
    "similarite = fuzz.ratio(nom_pays.lower(), nom_standard.lower())\n",
    "\n",
    "# Seuil de similarité à définir selon votre besoin\n",
    "if similarite > 70:  # 70 est un exemple, ajustez selon votre cas\n",
    "    print(\"TRUE\")\n",
    "else:\n",
    "    print(\"Pays non reconnu\")\n"
   ]
  }
 ],
 "metadata": {
  "kernelspec": {
   "display_name": "proj1",
   "language": "python",
   "name": "python3"
  },
  "language_info": {
   "codemirror_mode": {
    "name": "ipython",
    "version": 3
   },
   "file_extension": ".py",
   "mimetype": "text/x-python",
   "name": "python",
   "nbconvert_exporter": "python",
   "pygments_lexer": "ipython3",
   "version": "3.11.4"
  }
 },
 "nbformat": 4,
 "nbformat_minor": 2
}
