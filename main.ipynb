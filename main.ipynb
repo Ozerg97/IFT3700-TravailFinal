{
 "cells": [
  {
   "cell_type": "code",
   "execution_count": 36,
   "metadata": {},
   "outputs": [],
   "source": [
    "import os\n",
    "import pandas as pd\n"
   ]
  },
  {
   "cell_type": "code",
   "execution_count": 37,
   "metadata": {},
   "outputs": [],
   "source": [
    "\n",
    "# Chemin du dossier contenant les fichiers CSV\n",
    "dossier = '/Users/ozer/miniconda3/envs/proj1/ift3700/test_stat'\n",
    "\n",
    "    # Parcourir tous les fichiers dans le dossier\n",
    "for fichier in os.listdir(dossier):\n",
    "    if fichier.endswith('.csv'):\n",
    "        chemin_complet = os.path.join(dossier, fichier)\n",
    "        \n",
    "        # Lire le fichier CSV\n",
    "        df = pd.read_csv(chemin_complet,)\n",
    "\n",
    "        # Vérifier que la deuxième colonne existe\n",
    "        if df.shape[1] >= 2:\n",
    "            # Traiter chaque ligne\n",
    "            n = len(df)\n",
    "            supprimer_lignes = []\n",
    "            for index in range(len(df)):\n",
    "                # Utiliser .iloc pour accéder à la valeur par position\n",
    "                cell_value = df.iloc[index, 1]\n",
    "                \n",
    "                if isinstance(cell_value, str):\n",
    "                    df.iloc[index, 1] = cell_value.replace(',', '')\n",
    "                    \n",
    "                if str_cell_value.strip().startswith('<'):\n",
    "                    df.iloc[index, 1] = str_cell_value.replace('< ', '')\n",
    "                    \n",
    "                      \n",
    "                if str(cell_value).startswith('−') or str(cell_value).startswith('—'):\n",
    "                    str(cell_value).replace('−', '-')\n",
    "                    str(cell_value).replace('—', '-')\n",
    "                    \n",
    "                \n",
    "                # Vérifier si la deuxième colonne est vide \n",
    "                if pd.isna(cell_value):\n",
    "                    supprimer_lignes.append(index)\n",
    "                    continue  # Passe à la ligne suivante si la deuxième colonne est vide \n",
    "                \n",
    "                str_cell_value = str(cell_value)\n",
    "                if str_cell_value== '—' or str_cell_value=='–' or str_cell_value=='-':\n",
    "                    supprimer_lignes.append(index)\n",
    "                    continue\n",
    "\n",
    "                if str_cell_value == 'n.a.':\n",
    "                    supprimer_lignes.append(index)\n",
    "                    continue        \n",
    "\n",
    "                if str_cell_value.strip().startswith('<'):\n",
    "                    df.iloc[index, 1] = str_cell_value.replace('< ', '')\n",
    "                    \n",
    "                if str_cell_value.strip().endswith('%'):\n",
    "                    df.iloc[index, 1] = str_cell_value.rstrip('%')\n",
    "            df = df.drop(supprimer_lignes)\n",
    "            # Enregistrer les modifications\n",
    "            df.to_csv(chemin_complet, index=False)\n"
   ]
  },
  {
   "cell_type": "code",
   "execution_count": 39,
   "metadata": {},
   "outputs": [],
   "source": [
    "# Calculer les statistiques pour la deuxième colonne\n",
    "# Parcourir tous les fichiers CSV dans le dossier\n",
    "stats_list = []\t\n",
    "for filename in os.listdir(dossier):\n",
    "    if filename.endswith('.csv'):\n",
    "        chemin_complet = os.path.join(dossier, filename)\n",
    "        # Lire le fichier CSV\n",
    "        df = pd.read_csv(chemin_complet)\n",
    "\n",
    "        # Calculer les statistiques pour la deuxième colonne\n",
    "        column = df.iloc[1:, 1]  # La deuxième colonne\n",
    "        stats_dict = {\n",
    "            'filename': filename,\n",
    "            'mean': column.mean(),\n",
    "            'median': column.median(),\n",
    "            'max': column.max(),\n",
    "            'min': column.min(),\n",
    "            'variance': column.var()\n",
    "        }\n",
    "\n",
    "        # Ajouter le dictionnaire à la liste\n",
    "        stats_list.append(stats_dict)\n",
    "\n",
    "    "
   ]
  },
  {
   "cell_type": "code",
   "execution_count": null,
   "metadata": {},
   "outputs": [],
   "source": [
    "\n",
    "# Chemin du dossier contenant les fichiers CSV\n",
    "\n",
    "dossier = '/Users/ozer/miniconda3/envs/proj1/ift3700/test_stat'\n",
    "i = 0\n",
    "print(stats_list[i]['median'])\n",
    "\n",
    "    # Parcourir tous les fichiers dans le dossier\n",
    "for fichier in os.listdir(dossier):\n",
    "    print(stats_list[i]['median'])\n",
    "    print(fichier)\n",
    "    if fichier.endswith('.csv'):\n",
    "        chemin_complet = os.path.join(dossier, fichier)\n",
    "        median = stats_list[i]['median']\n",
    "        # Lire le fichier CSV\n",
    "        df = pd.read_csv(chemin_complet) # chaque fichier\n",
    "\n",
    "        if df.shape[1] >= 2:\n",
    "            # Traiter chaque ligne\n",
    "            for index in range(len(df)):\n",
    "                cell_value = df.iloc[index, 1]\n",
    "                if cell_value > median:\n",
    "                    df.iloc[index, 1] = 1\n",
    "                else:\n",
    "                    df.iloc[index, 1] = 0\n",
    "                \n",
    "            # Enregistrer les modifications\n",
    "            df.to_csv(os.path.join('/Users/ozer/miniconda3/envs/proj1/ift3700/test2', fichier), index=False)\n",
    "    i = i + 1\n"
   ]
  },
  {
   "cell_type": "code",
   "execution_count": 42,
   "metadata": {},
   "outputs": [],
   "source": []
  },
  {
   "cell_type": "code",
   "execution_count": 46,
   "metadata": {},
   "outputs": [
    {
     "name": "stdout",
     "output_type": "stream",
     "text": [
      "844\n"
     ]
    }
   ],
   "source": []
  }
 ],
 "metadata": {
  "kernelspec": {
   "display_name": "proj1",
   "language": "python",
   "name": "python3"
  },
  "language_info": {
   "codemirror_mode": {
    "name": "ipython",
    "version": 3
   },
   "file_extension": ".py",
   "mimetype": "text/x-python",
   "name": "python",
   "nbconvert_exporter": "python",
   "pygments_lexer": "ipython3",
   "version": "3.11.4"
  }
 },
 "nbformat": 4,
 "nbformat_minor": 2
}
