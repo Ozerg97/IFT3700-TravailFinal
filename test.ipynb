{
 "cells": [
  {
   "cell_type": "code",
   "execution_count": null,
   "metadata": {},
   "outputs": [],
   "source": [
    "import pandas as pd\n",
    "import numpy as np"
   ]
  },
  {
   "cell_type": "code",
   "execution_count": 1,
   "metadata": {},
   "outputs": [],
   "source": [
    "liste1 = ['France', 'Allemagne', 'Italie']\n",
    "liste2 = ['Espagne', 'France', 'Portugal']\n",
    "liste3 = ['Italie', 'Belgique', 'Pays-Bas']"
   ]
  },
  {
   "cell_type": "code",
   "execution_count": 3,
   "metadata": {},
   "outputs": [],
   "source": [
    "liste_finale = []\n",
    "for liste in [liste1, liste2, liste3]:\n",
    "    for pays in liste:\n",
    "        if pays not in liste_finale:\n",
    "            liste_finale.append(pays)\n"
   ]
  },
  {
   "cell_type": "code",
   "execution_count": 4,
   "metadata": {},
   "outputs": [
    {
     "name": "stdout",
     "output_type": "stream",
     "text": [
      "['France', 'Allemagne', 'Italie', 'Espagne', 'Portugal', 'Belgique', 'Pays-Bas']\n"
     ]
    }
   ],
   "source": [
    "print(liste_finale)"
   ]
  }
 ],
 "metadata": {
  "kernelspec": {
   "display_name": "proj1",
   "language": "python",
   "name": "python3"
  },
  "language_info": {
   "codemirror_mode": {
    "name": "ipython",
    "version": 3
   },
   "file_extension": ".py",
   "mimetype": "text/x-python",
   "name": "python",
   "nbconvert_exporter": "python",
   "pygments_lexer": "ipython3",
   "version": "3.11.4"
  }
 },
 "nbformat": 4,
 "nbformat_minor": 2
}
