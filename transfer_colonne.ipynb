{
 "cells": [
  {
   "cell_type": "code",
   "execution_count": 1,
   "metadata": {},
   "outputs": [],
   "source": [
    "import pandas as pd"
   ]
  },
  {
   "cell_type": "code",
   "execution_count": null,
   "metadata": {},
   "outputs": [],
   "source": [
    "# Charger les fichiers CSV\n",
    "df1 = pd.read_csv('/Users/ozer/miniconda3/envs/proj1/ift3700/countries of the world.csv')\n",
    "df2 = pd.read_csv('/Users/ozer/miniconda3/envs/proj1/ift3700/mon_dataframe1.csv')\n",
    "\n",
    "# Sélectionner la colonne à transférer (par exemple, 'colonne_a_transférer')\n",
    "colonne = df1['Country']\n",
    "\n",
    "# Ajouter la colonne au second DataFrame\n",
    "# Assurez-vous que le nombre de lignes dans les deux DataFrames correspond\n",
    "df2['Country'] = colonne\n",
    "\n",
    "# Enregistrer le second DataFrame dans un nouveau fichier CSV\n",
    "df2.to_csv('/Users/ozer/miniconda3/envs/proj1/ift3700/mon_dataframe1.csv', index=False)"
   ]
  }
 ],
 "metadata": {
  "kernelspec": {
   "display_name": "proj1",
   "language": "python",
   "name": "python3"
  },
  "language_info": {
   "codemirror_mode": {
    "name": "ipython",
    "version": 3
   },
   "file_extension": ".py",
   "mimetype": "text/x-python",
   "name": "python",
   "nbconvert_exporter": "python",
   "pygments_lexer": "ipython3",
   "version": "3.11.4"
  }
 },
 "nbformat": 4,
 "nbformat_minor": 2
}
