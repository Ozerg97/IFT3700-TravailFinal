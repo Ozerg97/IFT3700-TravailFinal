{
 "cells": [
  {
   "cell_type": "code",
   "execution_count": 1,
   "metadata": {},
   "outputs": [],
   "source": [
    "import os\n",
    "import pandas as pd\n",
    "import csv"
   ]
  },
  {
   "cell_type": "code",
   "execution_count": 2,
   "metadata": {},
   "outputs": [],
   "source": [
    "dossier = '/Users/ozer/miniconda3/envs/proj1/ift3700/Données '\n",
    "tous_les_listes = []\n",
    "for filename in os.listdir(dossier):\n",
    "    if filename.endswith('.csv'):\n",
    "        chemin_complet = os.path.join(dossier, filename)\n",
    "        # Lire le fichier CSV\n",
    "        df = pd.read_csv(chemin_complet)\n",
    "        column = df.iloc[1:, 0]\n",
    "        liste_pays = column.tolist()\n",
    "        tous_les_listes.append(liste_pays)\n",
    "\n",
    "tous_les_pays = []\n",
    "for liste in tous_les_listes:\n",
    "    for pays in liste:\n",
    "        if pays not in tous_les_pays:\n",
    "            tous_les_pays.append(pays)"
   ]
  },
  {
   "cell_type": "code",
   "execution_count": 3,
   "metadata": {},
   "outputs": [
    {
     "name": "stdout",
     "output_type": "stream",
     "text": [
      "369\n"
     ]
    }
   ],
   "source": [
    "print(len(tous_les_pays))"
   ]
  },
  {
   "cell_type": "code",
   "execution_count": null,
   "metadata": {},
   "outputs": [],
   "source": [
    "tous_les_pays.sort()"
   ]
  },
  {
   "cell_type": "code",
   "execution_count": 6,
   "metadata": {},
   "outputs": [],
   "source": [
    "# Votre liste\n",
    "\n",
    "# Ouvrir un fichier CSV en mode écriture\n",
    "with open('raw_les_pays.csv', 'w', newline='') as fichier:\n",
    "    writer = csv.writer(fichier)\n",
    "\n",
    "    # Écrire l'en-tête (optionnel)\n",
    "    writer.writerow(['Pays'])\n",
    "\n",
    "    # Écrire chaque élément de la liste dans une nouvelle ligne\n",
    "    for item in tous_les_pays:\n",
    "        writer.writerow([item])"
   ]
  }
 ],
 "metadata": {
  "kernelspec": {
   "display_name": "proj1",
   "language": "python",
   "name": "python3"
  },
  "language_info": {
   "codemirror_mode": {
    "name": "ipython",
    "version": 3
   },
   "file_extension": ".py",
   "mimetype": "text/x-python",
   "name": "python",
   "nbconvert_exporter": "python",
   "pygments_lexer": "ipython3",
   "version": "3.11.4"
  }
 },
 "nbformat": 4,
 "nbformat_minor": 2
}
